{
 "cells": [
  {
   "cell_type": "code",
   "execution_count": 2,
   "id": "e207c982",
   "metadata": {},
   "outputs": [
    {
     "name": "stdout",
     "output_type": "stream",
     "text": [
      "Requirement already satisfied: openpyxl in c:\\users\\sauga\\anaconda3\\envs\\mleenv\\lib\\site-packages (3.0.10)\n",
      "Requirement already satisfied: et-xmlfile in c:\\users\\sauga\\anaconda3\\envs\\mleenv\\lib\\site-packages (from openpyxl) (1.1.0)\n"
     ]
    },
    {
     "name": "stderr",
     "output_type": "stream",
     "text": [
      "WARNING: Error parsing requirements for numpy: [Errno 2] No such file or directory: 'c:\\\\users\\\\sauga\\\\anaconda3\\\\envs\\\\mleenv\\\\lib\\\\site-packages\\\\numpy-1.23.1.dist-info\\\\METADATA'\n"
     ]
    }
   ],
   "source": [
    "!pip install openpyxl"
   ]
  },
  {
   "cell_type": "code",
   "execution_count": 3,
   "id": "d1e08123",
   "metadata": {},
   "outputs": [],
   "source": [
    "import pandas as pd\n",
    "df = pd.read_excel('data_airline_reviews.xlsx')"
   ]
  },
  {
   "cell_type": "code",
   "execution_count": 4,
   "id": "9ae4a6c8",
   "metadata": {},
   "outputs": [
    {
     "data": {
      "text/html": [
       "<div>\n",
       "<style scoped>\n",
       "    .dataframe tbody tr th:only-of-type {\n",
       "        vertical-align: middle;\n",
       "    }\n",
       "\n",
       "    .dataframe tbody tr th {\n",
       "        vertical-align: top;\n",
       "    }\n",
       "\n",
       "    .dataframe thead th {\n",
       "        text-align: right;\n",
       "    }\n",
       "</style>\n",
       "<table border=\"1\" class=\"dataframe\">\n",
       "  <thead>\n",
       "    <tr style=\"text-align: right;\">\n",
       "      <th></th>\n",
       "      <th>airline</th>\n",
       "      <th>overall</th>\n",
       "      <th>author</th>\n",
       "      <th>review_date</th>\n",
       "      <th>customer_review</th>\n",
       "      <th>aircraft</th>\n",
       "      <th>traveller_type</th>\n",
       "      <th>cabin</th>\n",
       "      <th>route</th>\n",
       "      <th>date_flown</th>\n",
       "      <th>seat_comfort</th>\n",
       "      <th>cabin_service</th>\n",
       "      <th>food_bev</th>\n",
       "      <th>entertainment</th>\n",
       "      <th>ground_service</th>\n",
       "      <th>value_for_money</th>\n",
       "      <th>recommended</th>\n",
       "    </tr>\n",
       "  </thead>\n",
       "  <tbody>\n",
       "    <tr>\n",
       "      <th>0</th>\n",
       "      <td>NaN</td>\n",
       "      <td>NaN</td>\n",
       "      <td>NaN</td>\n",
       "      <td>NaN</td>\n",
       "      <td>NaN</td>\n",
       "      <td>NaN</td>\n",
       "      <td>NaN</td>\n",
       "      <td>NaN</td>\n",
       "      <td>NaN</td>\n",
       "      <td>NaN</td>\n",
       "      <td>NaN</td>\n",
       "      <td>NaN</td>\n",
       "      <td>NaN</td>\n",
       "      <td>NaN</td>\n",
       "      <td>NaN</td>\n",
       "      <td>NaN</td>\n",
       "      <td>NaN</td>\n",
       "    </tr>\n",
       "    <tr>\n",
       "      <th>1</th>\n",
       "      <td>Turkish Airlines</td>\n",
       "      <td>7.0</td>\n",
       "      <td>Christopher Hackley</td>\n",
       "      <td>8th May 2019</td>\n",
       "      <td>âœ… Trip Verified | London to Izmir via Istanb...</td>\n",
       "      <td>NaN</td>\n",
       "      <td>Business</td>\n",
       "      <td>Economy Class</td>\n",
       "      <td>London to Izmir via Istanbul</td>\n",
       "      <td>2019-05-01 00:00:00</td>\n",
       "      <td>4.0</td>\n",
       "      <td>5.0</td>\n",
       "      <td>4.0</td>\n",
       "      <td>4.0</td>\n",
       "      <td>2.0</td>\n",
       "      <td>4.0</td>\n",
       "      <td>yes</td>\n",
       "    </tr>\n",
       "    <tr>\n",
       "      <th>2</th>\n",
       "      <td>NaN</td>\n",
       "      <td>NaN</td>\n",
       "      <td>NaN</td>\n",
       "      <td>NaN</td>\n",
       "      <td>NaN</td>\n",
       "      <td>NaN</td>\n",
       "      <td>NaN</td>\n",
       "      <td>NaN</td>\n",
       "      <td>NaN</td>\n",
       "      <td>NaN</td>\n",
       "      <td>NaN</td>\n",
       "      <td>NaN</td>\n",
       "      <td>NaN</td>\n",
       "      <td>NaN</td>\n",
       "      <td>NaN</td>\n",
       "      <td>NaN</td>\n",
       "      <td>NaN</td>\n",
       "    </tr>\n",
       "    <tr>\n",
       "      <th>3</th>\n",
       "      <td>Turkish Airlines</td>\n",
       "      <td>2.0</td>\n",
       "      <td>Adriana Pisoi</td>\n",
       "      <td>7th May 2019</td>\n",
       "      <td>âœ… Trip Verified | Istanbul to Bucharest. We ...</td>\n",
       "      <td>NaN</td>\n",
       "      <td>Family Leisure</td>\n",
       "      <td>Economy Class</td>\n",
       "      <td>Istanbul to Bucharest</td>\n",
       "      <td>2019-05-01 00:00:00</td>\n",
       "      <td>4.0</td>\n",
       "      <td>1.0</td>\n",
       "      <td>1.0</td>\n",
       "      <td>1.0</td>\n",
       "      <td>1.0</td>\n",
       "      <td>1.0</td>\n",
       "      <td>no</td>\n",
       "    </tr>\n",
       "    <tr>\n",
       "      <th>4</th>\n",
       "      <td>NaN</td>\n",
       "      <td>NaN</td>\n",
       "      <td>NaN</td>\n",
       "      <td>NaN</td>\n",
       "      <td>NaN</td>\n",
       "      <td>NaN</td>\n",
       "      <td>NaN</td>\n",
       "      <td>NaN</td>\n",
       "      <td>NaN</td>\n",
       "      <td>NaN</td>\n",
       "      <td>NaN</td>\n",
       "      <td>NaN</td>\n",
       "      <td>NaN</td>\n",
       "      <td>NaN</td>\n",
       "      <td>NaN</td>\n",
       "      <td>NaN</td>\n",
       "      <td>NaN</td>\n",
       "    </tr>\n",
       "  </tbody>\n",
       "</table>\n",
       "</div>"
      ],
      "text/plain": [
       "            airline  overall               author   review_date  \\\n",
       "0               NaN      NaN                  NaN           NaN   \n",
       "1  Turkish Airlines      7.0  Christopher Hackley  8th May 2019   \n",
       "2               NaN      NaN                  NaN           NaN   \n",
       "3  Turkish Airlines      2.0        Adriana Pisoi  7th May 2019   \n",
       "4               NaN      NaN                  NaN           NaN   \n",
       "\n",
       "                                     customer_review aircraft  traveller_type  \\\n",
       "0                                                NaN      NaN             NaN   \n",
       "1  âœ… Trip Verified | London to Izmir via Istanb...      NaN        Business   \n",
       "2                                                NaN      NaN             NaN   \n",
       "3  âœ… Trip Verified | Istanbul to Bucharest. We ...      NaN  Family Leisure   \n",
       "4                                                NaN      NaN             NaN   \n",
       "\n",
       "           cabin                         route           date_flown  \\\n",
       "0            NaN                           NaN                  NaN   \n",
       "1  Economy Class  London to Izmir via Istanbul  2019-05-01 00:00:00   \n",
       "2            NaN                           NaN                  NaN   \n",
       "3  Economy Class         Istanbul to Bucharest  2019-05-01 00:00:00   \n",
       "4            NaN                           NaN                  NaN   \n",
       "\n",
       "   seat_comfort  cabin_service  food_bev  entertainment  ground_service  \\\n",
       "0           NaN            NaN       NaN            NaN             NaN   \n",
       "1           4.0            5.0       4.0            4.0             2.0   \n",
       "2           NaN            NaN       NaN            NaN             NaN   \n",
       "3           4.0            1.0       1.0            1.0             1.0   \n",
       "4           NaN            NaN       NaN            NaN             NaN   \n",
       "\n",
       "   value_for_money recommended  \n",
       "0              NaN         NaN  \n",
       "1              4.0         yes  \n",
       "2              NaN         NaN  \n",
       "3              1.0          no  \n",
       "4              NaN         NaN  "
      ]
     },
     "execution_count": 4,
     "metadata": {},
     "output_type": "execute_result"
    }
   ],
   "source": [
    "df.head()"
   ]
  },
  {
   "cell_type": "code",
   "execution_count": 5,
   "id": "38b29a12",
   "metadata": {},
   "outputs": [],
   "source": [
    "airline=df[['customer_review','recommended']].copy()"
   ]
  },
  {
   "cell_type": "code",
   "execution_count": 6,
   "id": "4f2ac509",
   "metadata": {},
   "outputs": [
    {
     "data": {
      "text/plain": [
       "70721"
      ]
     },
     "execution_count": 6,
     "metadata": {},
     "output_type": "execute_result"
    }
   ],
   "source": [
    "airline.duplicated().sum()"
   ]
  },
  {
   "cell_type": "code",
   "execution_count": 7,
   "id": "82f2112a",
   "metadata": {},
   "outputs": [],
   "source": [
    "airline.drop_duplicates(inplace=True)"
   ]
  },
  {
   "cell_type": "code",
   "execution_count": 8,
   "id": "0455d7e3",
   "metadata": {},
   "outputs": [
    {
     "name": "stdout",
     "output_type": "stream",
     "text": [
      "<class 'pandas.core.frame.DataFrame'>\n",
      "Int64Index: 61174 entries, 0 to 131894\n",
      "Data columns (total 2 columns):\n",
      " #   Column           Non-Null Count  Dtype \n",
      "---  ------           --------------  ----- \n",
      " 0   customer_review  61173 non-null  object\n",
      " 1   recommended      59751 non-null  object\n",
      "dtypes: object(2)\n",
      "memory usage: 1.4+ MB\n"
     ]
    }
   ],
   "source": [
    "airline.info()"
   ]
  },
  {
   "cell_type": "code",
   "execution_count": 9,
   "id": "6a6590bf",
   "metadata": {},
   "outputs": [],
   "source": [
    "airline.dropna(how='all',inplace=True)"
   ]
  },
  {
   "cell_type": "code",
   "execution_count": 10,
   "id": "60944c35",
   "metadata": {},
   "outputs": [
    {
     "data": {
      "text/plain": [
       "customer_review       0\n",
       "recommended        1422\n",
       "dtype: int64"
      ]
     },
     "execution_count": 10,
     "metadata": {},
     "output_type": "execute_result"
    }
   ],
   "source": [
    "airline.isnull().sum()"
   ]
  },
  {
   "cell_type": "code",
   "execution_count": 11,
   "id": "4e25fdf6",
   "metadata": {},
   "outputs": [
    {
     "data": {
      "text/plain": [
       "no     31265\n",
       "yes    28486\n",
       "Name: recommended, dtype: int64"
      ]
     },
     "execution_count": 11,
     "metadata": {},
     "output_type": "execute_result"
    }
   ],
   "source": [
    "airline['recommended'].value_counts()"
   ]
  },
  {
   "cell_type": "code",
   "execution_count": 12,
   "id": "73735388",
   "metadata": {},
   "outputs": [],
   "source": [
    "airline['recommended'].replace({'yes':1,'no':0},inplace=True)"
   ]
  },
  {
   "cell_type": "code",
   "execution_count": 13,
   "id": "791c9a7e",
   "metadata": {},
   "outputs": [
    {
     "name": "stdout",
     "output_type": "stream",
     "text": [
      "recommended Feature Missing Before\n",
      "recommended    1422\n",
      "dtype: int64\n",
      "----------------------------------------------------------------------------------------------------\n",
      "recommended Feature Missing After\n",
      "recommended    0\n",
      "dtype: int64\n",
      "----------------------------------------------------------------------------------------------------\n"
     ]
    }
   ],
   "source": [
    "print('recommended Feature Missing Before')\n",
    "print(airline[['recommended']].isnull().sum())\n",
    "print('--'*50)\n",
    "\n",
    "# Impute Electrical with the most frequent value, 'SBrkr'\n",
    "\n",
    "airline['recommended'] = airline['recommended'].fillna(airline['recommended'].mode()[0])\n",
    "print('recommended Feature Missing After')\n",
    "print(airline[['recommended']].isnull().sum())\n",
    "print('--'*50)"
   ]
  },
  {
   "cell_type": "code",
   "execution_count": null,
   "id": "69bca6b6",
   "metadata": {},
   "outputs": [],
   "source": []
  },
  {
   "cell_type": "code",
   "execution_count": 14,
   "id": "0a510014",
   "metadata": {},
   "outputs": [
    {
     "data": {
      "text/html": [
       "<div>\n",
       "<style scoped>\n",
       "    .dataframe tbody tr th:only-of-type {\n",
       "        vertical-align: middle;\n",
       "    }\n",
       "\n",
       "    .dataframe tbody tr th {\n",
       "        vertical-align: top;\n",
       "    }\n",
       "\n",
       "    .dataframe thead th {\n",
       "        text-align: right;\n",
       "    }\n",
       "</style>\n",
       "<table border=\"1\" class=\"dataframe\">\n",
       "  <thead>\n",
       "    <tr style=\"text-align: right;\">\n",
       "      <th></th>\n",
       "      <th>customer_review</th>\n",
       "      <th>recommended</th>\n",
       "    </tr>\n",
       "  </thead>\n",
       "  <tbody>\n",
       "    <tr>\n",
       "      <th>1</th>\n",
       "      <td>âœ… Trip Verified | London to Izmir via Istanb...</td>\n",
       "      <td>1.0</td>\n",
       "    </tr>\n",
       "    <tr>\n",
       "      <th>3</th>\n",
       "      <td>âœ… Trip Verified | Istanbul to Bucharest. We ...</td>\n",
       "      <td>0.0</td>\n",
       "    </tr>\n",
       "    <tr>\n",
       "      <th>5</th>\n",
       "      <td>âœ… Trip Verified | Rome to Prishtina via Ista...</td>\n",
       "      <td>0.0</td>\n",
       "    </tr>\n",
       "    <tr>\n",
       "      <th>7</th>\n",
       "      <td>âœ… Trip Verified | Flew on Turkish Airlines I...</td>\n",
       "      <td>1.0</td>\n",
       "    </tr>\n",
       "    <tr>\n",
       "      <th>9</th>\n",
       "      <td>âœ… Trip Verified | Mumbai to Dublin via Istan...</td>\n",
       "      <td>0.0</td>\n",
       "    </tr>\n",
       "  </tbody>\n",
       "</table>\n",
       "</div>"
      ],
      "text/plain": [
       "                                     customer_review  recommended\n",
       "1  âœ… Trip Verified | London to Izmir via Istanb...          1.0\n",
       "3  âœ… Trip Verified | Istanbul to Bucharest. We ...          0.0\n",
       "5  âœ… Trip Verified | Rome to Prishtina via Ista...          0.0\n",
       "7  âœ… Trip Verified | Flew on Turkish Airlines I...          1.0\n",
       "9  âœ… Trip Verified | Mumbai to Dublin via Istan...          0.0"
      ]
     },
     "execution_count": 14,
     "metadata": {},
     "output_type": "execute_result"
    }
   ],
   "source": [
    "airline.head()"
   ]
  },
  {
   "cell_type": "code",
   "execution_count": 15,
   "id": "c252d5e8",
   "metadata": {},
   "outputs": [],
   "source": [
    "airline['recommended']=airline['recommended'].astype('int')"
   ]
  },
  {
   "cell_type": "code",
   "execution_count": 16,
   "id": "1a8a0ca1",
   "metadata": {},
   "outputs": [
    {
     "data": {
      "text/html": [
       "<div>\n",
       "<style scoped>\n",
       "    .dataframe tbody tr th:only-of-type {\n",
       "        vertical-align: middle;\n",
       "    }\n",
       "\n",
       "    .dataframe tbody tr th {\n",
       "        vertical-align: top;\n",
       "    }\n",
       "\n",
       "    .dataframe thead th {\n",
       "        text-align: right;\n",
       "    }\n",
       "</style>\n",
       "<table border=\"1\" class=\"dataframe\">\n",
       "  <thead>\n",
       "    <tr style=\"text-align: right;\">\n",
       "      <th></th>\n",
       "      <th>customer_review</th>\n",
       "      <th>recommended</th>\n",
       "    </tr>\n",
       "  </thead>\n",
       "  <tbody>\n",
       "    <tr>\n",
       "      <th>1</th>\n",
       "      <td>âœ… Trip Verified | London to Izmir via Istanb...</td>\n",
       "      <td>1</td>\n",
       "    </tr>\n",
       "    <tr>\n",
       "      <th>3</th>\n",
       "      <td>âœ… Trip Verified | Istanbul to Bucharest. We ...</td>\n",
       "      <td>0</td>\n",
       "    </tr>\n",
       "    <tr>\n",
       "      <th>5</th>\n",
       "      <td>âœ… Trip Verified | Rome to Prishtina via Ista...</td>\n",
       "      <td>0</td>\n",
       "    </tr>\n",
       "    <tr>\n",
       "      <th>7</th>\n",
       "      <td>âœ… Trip Verified | Flew on Turkish Airlines I...</td>\n",
       "      <td>1</td>\n",
       "    </tr>\n",
       "    <tr>\n",
       "      <th>9</th>\n",
       "      <td>âœ… Trip Verified | Mumbai to Dublin via Istan...</td>\n",
       "      <td>0</td>\n",
       "    </tr>\n",
       "  </tbody>\n",
       "</table>\n",
       "</div>"
      ],
      "text/plain": [
       "                                     customer_review  recommended\n",
       "1  âœ… Trip Verified | London to Izmir via Istanb...            1\n",
       "3  âœ… Trip Verified | Istanbul to Bucharest. We ...            0\n",
       "5  âœ… Trip Verified | Rome to Prishtina via Ista...            0\n",
       "7  âœ… Trip Verified | Flew on Turkish Airlines I...            1\n",
       "9  âœ… Trip Verified | Mumbai to Dublin via Istan...            0"
      ]
     },
     "execution_count": 16,
     "metadata": {},
     "output_type": "execute_result"
    }
   ],
   "source": [
    "airline.head()"
   ]
  },
  {
   "cell_type": "code",
   "execution_count": 17,
   "id": "d45686a5",
   "metadata": {},
   "outputs": [
    {
     "name": "stdout",
     "output_type": "stream",
     "text": [
      "{'roses': 7, 'are': 1, 'red': 6, 'the': 10, 'sky': 8, 'is': 3, 'blue': 2, 'sum': 9, 'of': 4, 'one': 5, 'and': 0, 'two': 11}\n",
      "[[0 1 0 0 0 0 1 1 0 0 0 0]\n",
      " [0 0 1 1 0 0 0 0 1 0 1 0]\n",
      " [1 1 1 2 1 2 1 1 1 1 1 1]]\n"
     ]
    }
   ],
   "source": [
    "import numpy as np\n",
    "from sklearn.feature_extraction.text import CountVectorizer\n",
    "\n",
    "count = CountVectorizer()\n",
    "docs = (['Roses are Red',\n",
    "         'The sky is blue',\n",
    "         'Roses are Red, The sky is blue, sum of one and one is two'])\n",
    "bag = count.fit_transform(docs)\n",
    "\n",
    "print(count.vocabulary_)\n",
    "print(bag.toarray())"
   ]
  },
  {
   "cell_type": "code",
   "execution_count": null,
   "id": "4efe88c9",
   "metadata": {},
   "outputs": [],
   "source": []
  },
  {
   "cell_type": "code",
   "execution_count": 18,
   "id": "acc08206",
   "metadata": {},
   "outputs": [
    {
     "name": "stdout",
     "output_type": "stream",
     "text": [
      "[[0.   0.58 0.   0.   0.   0.   0.58 0.58 0.   0.   0.   0.  ]\n",
      " [0.   0.   0.5  0.5  0.   0.   0.   0.   0.5  0.   0.5  0.  ]\n",
      " [0.27 0.2  0.2  0.41 0.27 0.54 0.2  0.2  0.2  0.27 0.2  0.27]]\n"
     ]
    }
   ],
   "source": [
    "from sklearn.feature_extraction.text import TfidfTransformer\n",
    "np.set_printoptions(precision=2)\n",
    "\n",
    "tfidf = TfidfTransformer(use_idf=True, norm='l2', smooth_idf=True)\n",
    "\n",
    "print(tfidf.fit_transform(bag).toarray())"
   ]
  },
  {
   "cell_type": "code",
   "execution_count": 19,
   "id": "5cb2e53d",
   "metadata": {},
   "outputs": [
    {
     "data": {
      "text/plain": [
       "'testing out a sentence to preprocess :) :('"
      ]
     },
     "execution_count": 19,
     "metadata": {},
     "output_type": "execute_result"
    }
   ],
   "source": [
    "import re\n",
    "def preprocessor(text):\n",
    "  text =re.sub('<[^>]*>', '', text)\n",
    "  emoticons = re.findall('(?::|;|=)(?:-)?(?:\\)|\\(|D|P)', text)\n",
    "  text = re.sub('[\\W]+', ' ', text.lower()) + ' '.join(emoticons).replace('-', '')\n",
    "  \n",
    "  return text\n",
    "\n",
    "preprocessor(\"Testing out a :) sentence to preprocess :-( !\")"
   ]
  },
  {
   "cell_type": "code",
   "execution_count": 20,
   "id": "340edc9e",
   "metadata": {},
   "outputs": [
    {
     "data": {
      "text/plain": [
       "1         âœ trip verified london to izmir via istanbul ...\n",
       "3         âœ trip verified istanbul to bucharest we make...\n",
       "5         âœ trip verified rome to prishtina via istanbu...\n",
       "7         âœ trip verified flew on turkish airlines iad ...\n",
       "9         âœ trip verified mumbai to dublin via istanbul...\n",
       "                                ...                        \n",
       "131886    two domestic flights between kiev and lviv las...\n",
       "131888    i had a good flight from london to kiev with u...\n",
       "131890    kiev london gatwick in business class in april...\n",
       "131892    several flights kbp to ams 3 times one way lgw...\n",
       "131894    kbp ams with uia although it was a relatively ...\n",
       "Name: customer_review, Length: 61173, dtype: object"
      ]
     },
     "execution_count": 20,
     "metadata": {},
     "output_type": "execute_result"
    }
   ],
   "source": [
    "airline['customer_review'] = airline['customer_review'].apply(preprocessor)\n",
    "airline['customer_review']"
   ]
  },
  {
   "cell_type": "code",
   "execution_count": 21,
   "id": "abddd28b",
   "metadata": {},
   "outputs": [
    {
     "name": "stdout",
     "output_type": "stream",
     "text": [
      "Requirement already satisfied: nltk in c:\\users\\sauga\\anaconda3\\envs\\mleenv\\lib\\site-packages (3.7)\n",
      "Requirement already satisfied: regex>=2021.8.3 in c:\\users\\sauga\\anaconda3\\envs\\mleenv\\lib\\site-packages (from nltk) (2022.7.25)\n",
      "Requirement already satisfied: joblib in c:\\users\\sauga\\anaconda3\\envs\\mleenv\\lib\\site-packages (from nltk) (1.1.0)\n",
      "Requirement already satisfied: tqdm in c:\\users\\sauga\\anaconda3\\envs\\mleenv\\lib\\site-packages (from nltk) (4.64.0)\n",
      "Requirement already satisfied: click in c:\\users\\sauga\\anaconda3\\envs\\mleenv\\lib\\site-packages (from nltk) (8.0.4)\n",
      "Requirement already satisfied: colorama in c:\\users\\sauga\\anaconda3\\envs\\mleenv\\lib\\site-packages (from click->nltk) (0.4.4)\n"
     ]
    },
    {
     "name": "stderr",
     "output_type": "stream",
     "text": [
      "WARNING: Error parsing requirements for numpy: [Errno 2] No such file or directory: 'c:\\\\users\\\\sauga\\\\anaconda3\\\\envs\\\\mleenv\\\\lib\\\\site-packages\\\\numpy-1.23.1.dist-info\\\\METADATA'\n"
     ]
    },
    {
     "data": {
      "text/plain": [
       "[\"Let's\",\n",
       " 'see',\n",
       " 'how',\n",
       " 'tokenizer',\n",
       " 'and',\n",
       " 'stemming',\n",
       " 'tokenizer',\n",
       " 'are',\n",
       " 'working']"
      ]
     },
     "execution_count": 21,
     "metadata": {},
     "output_type": "execute_result"
    }
   ],
   "source": [
    "!pip install nltk\n",
    "from nltk.stem.porter import PorterStemmer\n",
    "\n",
    "porter = PorterStemmer()\n",
    "\n",
    "def tokenizer(text):\n",
    "  return text.split()\n",
    "\n",
    "def tokenizer_stemmer(text):\n",
    "  return[porter.stem(word) for word in text.split()]\n",
    "\n",
    "tokenizer(\"Let's see how tokenizer and stemming tokenizer are working\")"
   ]
  },
  {
   "cell_type": "code",
   "execution_count": 22,
   "id": "1a560de1",
   "metadata": {},
   "outputs": [
    {
     "data": {
      "text/plain": [
       "[\"let'\", 'see', 'how', 'token', 'and', 'stem', 'token', 'are', 'work']"
      ]
     },
     "execution_count": 22,
     "metadata": {},
     "output_type": "execute_result"
    }
   ],
   "source": [
    "tokenizer_stemmer(\"Let's see how tokenizer and stemming tokenizer are working\")"
   ]
  },
  {
   "cell_type": "code",
   "execution_count": 23,
   "id": "c70682c9",
   "metadata": {},
   "outputs": [
    {
     "name": "stderr",
     "output_type": "stream",
     "text": [
      "[nltk_data] Downloading package stopwords to\n",
      "[nltk_data]     C:\\Users\\sauga\\AppData\\Roaming\\nltk_data...\n",
      "[nltk_data]   Package stopwords is already up-to-date!\n"
     ]
    },
    {
     "data": {
      "text/plain": [
       "True"
      ]
     },
     "execution_count": 23,
     "metadata": {},
     "output_type": "execute_result"
    }
   ],
   "source": [
    "import nltk\n",
    "nltk.download('stopwords')"
   ]
  },
  {
   "cell_type": "code",
   "execution_count": 24,
   "id": "c1bdd1ae",
   "metadata": {},
   "outputs": [
    {
     "data": {
      "text/plain": [
       "[\"let'\", 'see', 'token', 'stem', 'token', 'work']"
      ]
     },
     "execution_count": 24,
     "metadata": {},
     "output_type": "execute_result"
    }
   ],
   "source": [
    "from nltk.corpus import stopwords\n",
    "\n",
    "stop = stopwords.words('english')\n",
    "[w for w in tokenizer_stemmer(\"Let's see how tokenizer and stemming tokenizer are working\") if w not in stop]"
   ]
  },
  {
   "cell_type": "code",
   "execution_count": 25,
   "id": "9f345c38",
   "metadata": {},
   "outputs": [],
   "source": [
    "from sklearn.feature_extraction.text import TfidfVectorizer\n",
    "\n",
    "tfidf = TfidfVectorizer(strip_accents=None,\n",
    "                         lowercase=True,\n",
    "                         preprocessor=None,  # Need not apply as it is already applied during Data Cleaning\n",
    "                         use_idf=True,\n",
    "                         norm='l2',\n",
    "                         smooth_idf=True)\n",
    "\n",
    "y = airline.recommended.values\n",
    "X = tfidf.fit_transform(airline.customer_review)"
   ]
  },
  {
   "cell_type": "code",
   "execution_count": 26,
   "id": "228e28bb",
   "metadata": {},
   "outputs": [
    {
     "name": "stderr",
     "output_type": "stream",
     "text": [
      "[Parallel(n_jobs=-1)]: Using backend LokyBackend with 4 concurrent workers.\n",
      "[Parallel(n_jobs=-1)]: Done   2 out of   5 | elapsed:  1.6min remaining:  2.4min\n",
      "[Parallel(n_jobs=-1)]: Done   5 out of   5 | elapsed:  2.2min finished\n"
     ]
    }
   ],
   "source": [
    "from sklearn.model_selection import train_test_split\n",
    "import pickle\n",
    "from sklearn.linear_model import LogisticRegressionCV\n",
    "\n",
    "\n",
    "X_train, X_test, y_train, y_test = train_test_split(X, y, random_state=1, test_size=0.5, shuffle=False)\n",
    "\n",
    "clf = LogisticRegressionCV(cv=5,\n",
    "                           scoring='accuracy',\n",
    "                           random_state=0,\n",
    "                           n_jobs=-1,\n",
    "                           verbose=3,\n",
    "                           max_iter=300).fit(X_train, y_train)"
   ]
  },
  {
   "cell_type": "code",
   "execution_count": 27,
   "id": "58e42044",
   "metadata": {},
   "outputs": [
    {
     "data": {
      "text/plain": [
       "0.8957727138980612"
      ]
     },
     "execution_count": 27,
     "metadata": {},
     "output_type": "execute_result"
    }
   ],
   "source": [
    "clf.score(X_test, y_test)"
   ]
  },
  {
   "cell_type": "code",
   "execution_count": 28,
   "id": "817c95d2",
   "metadata": {},
   "outputs": [],
   "source": [
    "import matplotlib.pyplot as plt\n",
    "from sklearn.metrics import classification_report, confusion_matrix\n",
    "import itertools\n",
    "def plot_confusion_matrix(cm, classes,\n",
    "                          normalize=False,\n",
    "                          title='Confusion matrix',\n",
    "                          cmap=plt.cm.Blues):\n",
    "    \"\"\"\n",
    "    This function prints and plots the confusion matrix.\n",
    "    Normalization can be applied by setting `normalize=True`.\n",
    "    \"\"\"\n",
    "    if normalize:\n",
    "        cm = cm.astype('float') / cm.sum(axis=1)[:, np.newaxis]\n",
    "        print(\"Normalized confusion matrix\")\n",
    "    else:\n",
    "        print('Confusion matrix, without normalization')\n",
    "\n",
    "    plt.imshow(cm, interpolation='nearest', cmap=cmap)\n",
    "    plt.title(title)\n",
    "    plt.colorbar()\n",
    "    tick_marks = np.arange(len(classes))\n",
    "    plt.xticks(tick_marks, classes, rotation=45)\n",
    "    plt.yticks(tick_marks, classes)\n",
    "\n",
    "    fmt = '.2f' if normalize else 'd'\n",
    "    thresh = cm.max() / 2.\n",
    "    for i, j in itertools.product(range(cm.shape[0]), range(cm.shape[1])):\n",
    "        plt.text(j, i, format(cm[i, j], fmt),\n",
    "                 horizontalalignment=\"center\",\n",
    "                 color=\"white\" if cm[i, j] > thresh else \"black\")\n",
    "\n",
    "    plt.tight_layout()\n",
    "    plt.ylabel('True label')\n",
    "    plt.xlabel('Predicted label')"
   ]
  },
  {
   "cell_type": "code",
   "execution_count": 29,
   "id": "afb94b7e",
   "metadata": {},
   "outputs": [
    {
     "name": "stdout",
     "output_type": "stream",
     "text": [
      "Confusion matrix, without normalization\n"
     ]
    },
    {
     "data": {
      "image/png": "[encoded data removed]",
      "text/plain": [
       "<Figure size 936x360 with 2 Axes>"
      ]
     },
     "metadata": {
      "needs_background": "light"
     },
     "output_type": "display_data"
    }
   ],
   "source": [
    "yhat = clf.predict(X_test)\n",
    "\n",
    "# Compute confusion matrix\n",
    "cnf_matrix = confusion_matrix(y_test, yhat, labels=[1,0])\n",
    "np.set_printoptions(precision=2)\n",
    "\n",
    "\n",
    "# Plot non-normalized confusion matrix\n",
    "plt.figure(figsize=(13,5))\n",
    "plot_confusion_matrix(cnf_matrix, classes=['positive=1','negative=0'],normalize= False,  title='Confusion matrix')"
   ]
  },
  {
   "cell_type": "code",
   "execution_count": 30,
   "id": "e8319610",
   "metadata": {},
   "outputs": [],
   "source": [
    "import pickle\n",
    "\n",
    "#Dumping the Tfidf model built\n",
    "\n",
    "with open('tfidf_airline.pkl', 'wb') as file_output:\n",
    "    pickle.dump(tfidf, file_output)\n",
    "\n",
    "##############################################################\n",
    "\n",
    "#Dumping the sentiment analysis model built\n",
    "\n",
    "with open('mle_deployment_review_model.pkl', 'wb') as file_output:\n",
    "    pickle.dump(clf, file_output)"
   ]
  },
  {
   "cell_type": "code",
   "execution_count": 31,
   "id": "7a87d7bd",
   "metadata": {},
   "outputs": [
    {
     "name": "stdout",
     "output_type": "stream",
     "text": [
      "[1]\n",
      "[0]\n"
     ]
    }
   ],
   "source": [
    "mle = pickle.load(open('mle_deployment_review_model.pkl','rb'))\n",
    "tfidf_vect = pickle.load(open('tfidf_airline.pkl','rb'))\n",
    "\n",
    "\n",
    "\n",
    "data = [\"Experience was awesome\"]\n",
    "vect = tfidf_vect.transform(data).toarray()\n",
    "my_prediction = mle.predict(vect)\n",
    "print(my_prediction)\n",
    "\n",
    "data = [\"Experience was bad\"]\n",
    "vect = tfidf_vect.transform(data).toarray()\n",
    "my_prediction = mle.predict(vect)\n",
    "print(my_prediction)"
   ]
  },
  {
   "cell_type": "code",
   "execution_count": null,
   "id": "cdf2ac7c",
   "metadata": {},
   "outputs": [],
   "source": []
  }
 ],
 "metadata": {
  "kernelspec": {
   "display_name": "Python 3 (ipykernel)",
   "language": "python",
   "name": "python3"
  },
  "language_info": {
   "codemirror_mode": {
    "name": "ipython",
    "version": 3
   },
   "file_extension": ".py",
   "mimetype": "text/x-python",
   "name": "python",
   "nbconvert_exporter": "python",
   "pygments_lexer": "ipython3",
   "version": "3.10.4"
  }
 },
 "nbformat": 4,
 "nbformat_minor": 5
}
